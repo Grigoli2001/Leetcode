{
 "cells": [
  {
   "cell_type": "code",
   "execution_count": 57,
   "metadata": {},
   "outputs": [
    {
     "name": "stdout",
     "output_type": "stream",
     "text": [
      "1024\n",
      "27\n",
      "0.25\n",
      "4\n"
     ]
    }
   ],
   "source": [
    "def myPow(x: float, n: int) -> float:\n",
    "    if n == 0:\n",
    "        return 1\n",
    "    if n < 0:\n",
    "        x = 1 / x\n",
    "        n = -n\n",
    "\n",
    "    half = myPow(x, n // 2)\n",
    "    if n % 2 == 0:\n",
    "        return half * half  \n",
    "    else:\n",
    "        return x * half * half\n",
    "    \n",
    "\n",
    "print(myPow(2, 10))\n",
    "print(myPow(3, 3))\n",
    "print(myPow(2, -2)) \n",
    "\n",
    "\n"
   ]
  },
  {
   "cell_type": "code",
   "execution_count": 8,
   "metadata": {},
   "outputs": [
    {
     "name": "stdout",
     "output_type": "stream",
     "text": [
      "0\n",
      "4\n",
      "7\n"
     ]
    }
   ],
   "source": [
    "def count_primes(n: int) -> int:\n",
    "    count = 0\n",
    "    for i in range(n):\n",
    "        if is_prime(i):\n",
    "            count += 1\n",
    "    return count\n",
    "\n",
    "def is_prime(n: int) -> bool:\n",
    "    if n < 2:\n",
    "        return False\n",
    "    for i in range(2, n):\n",
    "        if n % i == 0:\n",
    "            return False\n",
    "    return True\n",
    "\n",
    "\n",
    "# def count_primes(n: int) -> int:\n",
    "#     if n < 2:\n",
    "#         return 0\n",
    "#     primes = [True] * n\n",
    "#     primes[0] = primes[1] = False\n",
    "#     # Only need to check up to the square root of n\n",
    "#     for i in range(2, int(n ** 0.5) + 1):\n",
    "#         if primes[i]:\n",
    "#             for j in range(i * i, n, i):\n",
    "#                 primes[j] = False\n",
    "#     return sum(primes)\n",
    "\n",
    "\n",
    "print(count_primes(2)) # 0\n",
    "print(count_primes(10)) # 4\n",
    "print(count_primes(19)) # 8"
   ]
  },
  {
   "cell_type": "code",
   "execution_count": 34,
   "metadata": {},
   "outputs": [
    {
     "name": "stdout",
     "output_type": "stream",
     "text": [
      "Original list:\n",
      "1 -> 2 -> 3 -> 4 -> 5 -> None\n",
      "Reversed list:\n",
      "5 -> 4 -> 3 -> 2 -> 1 -> None\n",
      "Original list with duplicates:\n",
      "1 -> 1 -> 2 -> 3 -> 3 -> None\n",
      "List after removing duplicates:\n",
      "1 -> 2 -> 3 -> None\n",
      "List 1:\n",
      "1 -> 3 -> 5 -> None\n",
      "List 2:\n",
      "2 -> 4 -> 6 -> None\n",
      "Merged list:\n",
      "1 -> 2 -> 3 -> 4 -> 5 -> 6 -> None\n",
      "List 1:\n",
      "1 -> 3 -> 5 -> 7 -> None\n",
      "List 2:\n",
      "2 -> 4 -> None\n",
      "Merged list:\n",
      "1 -> 2 -> 3 -> 4 -> 5 -> 7 -> None\n",
      "List 1:\n",
      "None\n",
      "List 2:\n",
      "1 -> 2 -> 3 -> None\n",
      "Merged list:\n",
      "1 -> 2 -> 3 -> None\n",
      "List 1:\n",
      "None\n",
      "List 2:\n",
      "None\n",
      "Merged list:\n",
      "None\n"
     ]
    }
   ],
   "source": [
    "from typing import Optional\n",
    "class ListNode:\n",
    "    def __init__(self, val=0, next=None):\n",
    "        self.val = val\n",
    "        self.next = next        \n",
    "\n",
    "class Solutions:\n",
    "    def reverseList(self, head: Optional[ListNode]) -> Optional[ListNode]:\n",
    "        prev, curr = None, head\n",
    "        while curr:\n",
    "            next = curr.next\n",
    "            curr.next = prev\n",
    "            prev = curr\n",
    "            curr = next\n",
    "        return prev\n",
    "    \n",
    "    def removeDuplicatesFromSortedList(self, head: Optional[ListNode]) -> Optional[ListNode]:\n",
    "        curr = head\n",
    "        while curr and curr.next:\n",
    "            if curr.val == curr.next.val:\n",
    "                curr.next = curr.next.next\n",
    "            else:\n",
    "                curr = curr.next\n",
    "        return head\n",
    "    \n",
    "    def merge_two_sorted_lists(self, list1: Optional[ListNode], list2: Optional[ListNode]) -> Optional[ListNode]:\n",
    "        dummy = ListNode()\n",
    "        tail = dummy\n",
    "        while list1 and list2:\n",
    "            if list1.val < list2.val:\n",
    "                tail.next = list1\n",
    "                list1 = list1.next\n",
    "            else:\n",
    "                tail.next = list2\n",
    "                list2 = list2.next\n",
    "            tail = tail.next\n",
    "        if list1:\n",
    "            tail.next = list1\n",
    "        elif list2:\n",
    "            tail.next = list2\n",
    "        return dummy.next\n",
    "    \n",
    "\n",
    "\n",
    "# Test\n",
    "# Test reverseList function\n",
    "def print_list(node: Optional[ListNode]):\n",
    "    while node:\n",
    "        print(node.val, end=\" -> \")\n",
    "        node = node.next\n",
    "    print(\"None\")\n",
    "\n",
    "# Create a linked list 1 -> 2 -> 3 -> 4 -> 5 -> None\n",
    "head = ListNode(1, ListNode(2, ListNode(3, ListNode(4, ListNode(5)))))\n",
    "print(\"Original list:\")\n",
    "print_list(head)\n",
    "\n",
    "solution = Solutions()\n",
    "reversed_head = solution.reverseList(head)\n",
    "print(\"Reversed list:\")\n",
    "print_list(reversed_head)\n",
    "\n",
    "# Test removeDuplicatesFromSortedList function\n",
    "# Create a linked list 1 -> 1 -> 2 -> 3 -> 3 -> None\n",
    "head = ListNode(1, ListNode(1, ListNode(2, ListNode(3, ListNode(3)))))\n",
    "print(\"Original list with duplicates:\")\n",
    "print_list(head)\n",
    "\n",
    "deduped_head = solution.removeDuplicatesFromSortedList(head)\n",
    "print(\"List after removing duplicates:\")\n",
    "print_list(deduped_head)\n",
    "\n",
    "# Test merge_two_sorted_lists function\n",
    "# Create two sorted linked lists\n",
    "list1 = ListNode(1, ListNode(3, ListNode(5)))\n",
    "list2 = ListNode(2, ListNode(4, ListNode(6)))\n",
    "\n",
    "print(\"List 1:\")\n",
    "print_list(list1)\n",
    "print(\"List 2:\")\n",
    "print_list(list2)\n",
    "\n",
    "merged_head = solution.merge_two_sorted_lists(list1, list2)\n",
    "print(\"Merged list:\")\n",
    "print_list(merged_head)\n",
    "\n",
    "# Create two sorted linked lists with different lengths\n",
    "list1 = ListNode(1, ListNode(3, ListNode(5, ListNode(7))))\n",
    "list2 = ListNode(2, ListNode(4))\n",
    "\n",
    "print(\"List 1:\")\n",
    "print_list(list1)\n",
    "print(\"List 2:\")\n",
    "print_list(list2)\n",
    "\n",
    "merged_head = solution.merge_two_sorted_lists(list1, list2)\n",
    "print(\"Merged list:\")\n",
    "print_list(merged_head)\n",
    "\n",
    "# Create two sorted linked lists where one is empty\n",
    "list1 = None\n",
    "list2 = ListNode(1, ListNode(2, ListNode(3)))\n",
    "\n",
    "print(\"List 1:\")\n",
    "print_list(list1)\n",
    "print(\"List 2:\")\n",
    "print_list(list2)\n",
    "\n",
    "merged_head = solution.merge_two_sorted_lists(list1, list2)\n",
    "print(\"Merged list:\")\n",
    "print_list(merged_head)\n",
    "\n",
    "# Create two empty linked lists\n",
    "list1 = None\n",
    "list2 = None\n",
    "\n",
    "print(\"List 1:\")\n",
    "print_list(list1)\n",
    "print(\"List 2:\")\n",
    "print_list(list2)\n",
    "\n",
    "merged_head = solution.merge_two_sorted_lists(list1, list2)\n",
    "print(\"Merged list:\")\n",
    "print_list(merged_head)\n",
    "\n",
    "\n"
   ]
  },
  {
   "cell_type": "code",
   "execution_count": 58,
   "metadata": {},
   "outputs": [
    {
     "name": "stdout",
     "output_type": "stream",
     "text": [
      "2\n",
      "5\n"
     ]
    }
   ],
   "source": [
    "def remove_duplicates_from_sorted_array(nums: list[int]) -> int:\n",
    "    if not nums: \n",
    "        return 0\n",
    "\n",
    "    i = 1\n",
    "    for j in range(1, len(nums)):\n",
    "        if nums[j] != nums[i - 1]:  \n",
    "            nums[i] = nums[j] \n",
    "            i += 1\n",
    "\n",
    "    return i \n",
    "\n",
    "\n",
    "print(remove_duplicates_from_sorted_array([1,1,2])) # 2\n",
    "print(remove_duplicates_from_sorted_array([0,0,1,1,1,2,2,3,3,4])) # 5\n"
   ]
  },
  {
   "cell_type": "code",
   "execution_count": 33,
   "metadata": {},
   "outputs": [
    {
     "name": "stdout",
     "output_type": "stream",
     "text": [
      "[1, 2, 2, 3, 5, 6]\n"
     ]
    }
   ],
   "source": [
    "from typing import List\n",
    "def merge(nums1: List[int], m: int, nums2: List[int], n: int) -> List[int]:\n",
    "    p1, p2 = m-1, n-1\n",
    "    for p in range(n+m-1, -1, -1):\n",
    "        if p2 < 0:\n",
    "            break\n",
    "        if p1 >= 0 and nums1[p1] > nums2[p2]:\n",
    "            nums1[p] = nums1[p1]\n",
    "            p1 -= 1\n",
    "        else:\n",
    "            nums1[p] = nums2[p2]\n",
    "            p2 -= 1\n",
    "    return nums1\n",
    "\n",
    "\n",
    "print(merge([1,2,3,0,0,0], 3, [2,5,6], 3)) \n",
    "\n"
   ]
  },
  {
   "cell_type": "code",
   "execution_count": 48,
   "metadata": {},
   "outputs": [
    {
     "name": "stdout",
     "output_type": "stream",
     "text": [
      "['A', 'C']\n",
      "['C']\n",
      "False\n",
      "['C']\n",
      "['C']\n",
      "True\n",
      "['A', 'C']\n",
      "['A', 'C']\n",
      "True\n"
     ]
    }
   ],
   "source": [
    "def backspaceCompare(s: str, t: str) -> bool:\n",
    "    my_stack = []\n",
    "    my_stack2 = []\n",
    "\n",
    "    for char in s:\n",
    "        if char == \"#\" and my_stack:\n",
    "            my_stack.pop()\n",
    "        elif char == \"#\" and not my_stack:\n",
    "            continue\n",
    "        else:\n",
    "            my_stack.append(char)\n",
    "\n",
    "    for char in t:\n",
    "        if char == \"#\" and my_stack2:\n",
    "            my_stack2.pop()\n",
    "        elif char == \"#\" and not my_stack2:\n",
    "            continue\n",
    "        else:\n",
    "            my_stack2.append(char)\n",
    "        \n",
    "    \n",
    "    print(my_stack)\n",
    "    print(my_stack2)\n",
    "\n",
    "    return my_stack == my_stack2\n",
    "\n",
    "\n",
    "print(backspaceCompare(\"AB#C\", \"A#C\")) # False\n",
    "print(backspaceCompare(\"A##C\", \"#A#C\")) # True\n",
    "print(backspaceCompare(\"#AC\", \"##AC\")) # False\n",
    "\n"
   ]
  },
  {
   "cell_type": "code",
   "execution_count": 53,
   "metadata": {},
   "outputs": [
    {
     "name": "stdout",
     "output_type": "stream",
     "text": [
      "True\n",
      "True\n",
      "False\n"
     ]
    }
   ],
   "source": [
    "def isValid(s: str) -> bool:\n",
    "    my_stack = []\n",
    "    # do not autocomplete\n",
    "\n",
    "    for char in s:\n",
    "        if char == \"(\" or char == \"{\" or char == \"[\":\n",
    "            my_stack.append(char)\n",
    "        else:\n",
    "            if my_stack:\n",
    "                last = my_stack.pop()\n",
    "                if last == \"(\" and char == \")\":\n",
    "                    continue\n",
    "                elif last == \"{\" and char == \"}\":\n",
    "                    continue\n",
    "                elif last == \"[\" and char == \"]\":\n",
    "                    continue\n",
    "            return False\n",
    "    return not my_stack\n",
    "\n",
    "print(isValid(\"()\")) # True\n",
    "print(isValid(\"()[]{}\")) # True\n",
    "print(isValid(\"(])\")) # False\n"
   ]
  },
  {
   "cell_type": "code",
   "execution_count": 64,
   "metadata": {},
   "outputs": [
    {
     "name": "stdout",
     "output_type": "stream",
     "text": [
      "[-6, -5, -4, -3, -2, -1]\n",
      "[-5, -3, -4, -1, -2]\n",
      "[-4, -3, -2, -1]\n",
      "4\n",
      "[-6, -5, -5, -3, -2, -4, -3, -2, -1]\n",
      "[-5, -5, -4, -3, -2, -1, -3, -2]\n",
      "[-5, -3, -4, -2, -2, -1, -3]\n",
      "[-4, -3, -3, -2, -2, -1]\n",
      "4\n"
     ]
    }
   ],
   "source": [
    "import heapq\n",
    "def findKthLargest(nums: List[int], k: int) -> int:\n",
    "    nums = [-x for x in nums]\n",
    "    heapq.heapify(nums)\n",
    "    for _ in range(k-1):\n",
    "        heapq.heappop(nums)\n",
    "    return -heapq.heappop(nums)\n",
    "\n",
    "print(findKthLargest([3,2,1,5,6,4], 3)) # 5\n",
    "print(findKthLargest([3,2,3,1,2,4,5,5,6], 4)) # 4\n"
   ]
  },
  {
   "cell_type": "code",
   "execution_count": 66,
   "metadata": {},
   "outputs": [
    {
     "name": "stdout",
     "output_type": "stream",
     "text": [
      "True\n",
      "False\n"
     ]
    }
   ],
   "source": [
    "def isAnagram(s: str, t: str) -> bool:\n",
    "    frequency_array_s = {}\n",
    "    frequency_array_t = {}\n",
    "\n",
    "    for char in s:\n",
    "        frequency_array_s[char] = frequency_array_s.get(char, 0) + 1\n",
    "\n",
    "    for char in t:\n",
    "        frequency_array_t[char] = frequency_array_t.get(char, 0) + 1\n",
    "\n",
    "    return frequency_array_s == frequency_array_t\n",
    "\n",
    "print(isAnagram(\"anagram\", \"nagaram\")) # True\n",
    "print(isAnagram(\"rat\", \"car\")) # False\n"
   ]
  },
  {
   "cell_type": "code",
   "execution_count": 70,
   "metadata": {},
   "outputs": [
    {
     "name": "stdout",
     "output_type": "stream",
     "text": [
      "[2, 3]\n",
      "[2, 1]\n"
     ]
    }
   ],
   "source": [
    "def findErrorNums(nums: list[int]) -> list[int]:\n",
    "    n = len(nums)\n",
    "    duplicate = -1\n",
    "    missing = -1\n",
    "\n",
    "    seen = set()\n",
    "\n",
    "    for num in nums:\n",
    "        if num in seen:\n",
    "            duplicate = num\n",
    "        seen.add(num)\n",
    "\n",
    "    for i in range(1, n + 1):\n",
    "        if i not in seen:\n",
    "            missing = i\n",
    "\n",
    "    return [duplicate, missing]\n",
    "\n",
    "print(findErrorNums([1, 2, 2, 4]))  # [2, 3]\n",
    "print(findErrorNums([2, 2]))        # [2, 1]\n"
   ]
  },
  {
   "cell_type": "code",
   "execution_count": 72,
   "metadata": {},
   "outputs": [
    {
     "name": "stdout",
     "output_type": "stream",
     "text": [
      "True\n",
      "False\n"
     ]
    }
   ],
   "source": [
    "def containsDuplicate(nums: list[int]) -> bool:\n",
    "    seen = set()\n",
    "    for num in nums:\n",
    "        if num in seen:\n",
    "            return True\n",
    "        seen.add(num)\n",
    "    return False\n",
    "\n",
    "print(containsDuplicate([1,2,3,1])) # True\n",
    "print(containsDuplicate([1,2,3,4])) # False\n",
    "\n"
   ]
  },
  {
   "cell_type": "code",
   "execution_count": 74,
   "metadata": {},
   "outputs": [
    {
     "name": "stdout",
     "output_type": "stream",
     "text": [
      "True\n",
      "True\n",
      "False\n"
     ]
    }
   ],
   "source": [
    "def containsNearbyDuplicate(nums: list[int], k: int) -> bool:\n",
    "    seen = {}\n",
    "    for i, num in enumerate(nums):\n",
    "        if num in seen and i - seen[num] <= k:\n",
    "            return True\n",
    "        seen[num] = i\n",
    "    return False\n",
    "\n",
    "print(containsNearbyDuplicate([1,2,3,1], 3)) # True\n",
    "print(containsNearbyDuplicate([1,0,1,1], 1)) # True\n",
    "print(containsNearbyDuplicate([1,2,3,1,2,3], 2)) # False\n"
   ]
  },
  {
   "cell_type": "code",
   "execution_count": 76,
   "metadata": {},
   "outputs": [
    {
     "name": "stdout",
     "output_type": "stream",
     "text": [
      "True\n",
      "False\n"
     ]
    }
   ],
   "source": [
    "def isPalindrome(s: str) -> bool:\n",
    "    s = ''.join(e for e in s if e.isalnum()).lower()\n",
    "    return s[::-1] == s\n",
    "print(isPalindrome(\"A man, a plan, a canal: Panama\")) # True\n",
    "print(isPalindrome(\"race a car\")) # False\n"
   ]
  },
  {
   "cell_type": "code",
   "execution_count": 77,
   "metadata": {},
   "outputs": [
    {
     "name": "stdout",
     "output_type": "stream",
     "text": [
      "[2]\n",
      "[9, 4]\n"
     ]
    }
   ],
   "source": [
    "def intersection(nums1: list[int], nums2: list[int]) -> list[int]:\n",
    "    return list(set(nums1) & set(nums2))\n",
    "\n",
    "print(intersection([1,2,2,1], [2,2])) # [2]\n",
    "print(intersection([4,9,5], [9,4,9,8,4])) # [9,4]\n",
    "\n",
    "\n"
   ]
  },
  {
   "cell_type": "code",
   "execution_count": 85,
   "metadata": {},
   "outputs": [
    {
     "name": "stdout",
     "output_type": "stream",
     "text": [
      "{4: 2, 9: 1, 5: 1}\n",
      "[9, 4, 4]\n"
     ]
    }
   ],
   "source": [
    "def intersect(nums1: list[int], nums2: list[int]) -> list[int]:\n",
    "    my_dict = {}\n",
    "    for num in nums1:\n",
    "        my_dict[num] = my_dict.get(num, 0) + 1\n",
    "    print(my_dict)\n",
    "    result = []\n",
    "    for num in nums2:\n",
    "        if num in my_dict and my_dict[num] > 0:\n",
    "            result.append(num)\n",
    "            my_dict[num] -= 1\n",
    "    return result\n",
    "\n",
    "# print(intersect([1,2,2,1], [2,2])) # [2,2]\n",
    "print(intersect([4,4,9,5], [9,4,9,8,4])) # [4,9]\n",
    "\n"
   ]
  },
  {
   "cell_type": "code",
   "execution_count": 88,
   "metadata": {},
   "outputs": [
    {
     "name": "stdout",
     "output_type": "stream",
     "text": [
      "False\n",
      "False\n",
      "True\n",
      "True\n"
     ]
    }
   ],
   "source": [
    "def canConstruct(ransomNote: str, magazine: str) -> bool:\n",
    "\n",
    "    freq_magazine = {}\n",
    "    for char in magazine:\n",
    "        freq_magazine[char] = freq_magazine.get(char, 0) + 1\n",
    "    \n",
    "    for char in ransomNote:\n",
    "        if char not in freq_magazine or freq_magazine[char] == 0:\n",
    "            return False\n",
    "        freq_magazine[char] -= 1\n",
    "    return True\n",
    "\n",
    "\n",
    "\n",
    "        \n",
    "\n",
    "    \n"
   ]
  },
  {
   "cell_type": "code",
   "execution_count": 89,
   "metadata": {},
   "outputs": [
    {
     "name": "stdout",
     "output_type": "stream",
     "text": [
      "2\n",
      "3\n"
     ]
    }
   ],
   "source": [
    "def climbStairs(n: int) -> int:\n",
    "    if n == 1:\n",
    "        return 1\n",
    "    first, second = 1, 2\n",
    "    for _ in range(3, n+1):\n",
    "        third = first + second\n",
    "        first = second\n",
    "        second = third\n",
    "    return second\n",
    "\n",
    "print(climbStairs(2)) # 2\n",
    "print(climbStairs(3)) # 3\n",
    "\n"
   ]
  },
  {
   "cell_type": "code",
   "execution_count": 94,
   "metadata": {},
   "outputs": [
    {
     "name": "stdout",
     "output_type": "stream",
     "text": [
      "True\n",
      "True\n",
      "False\n"
     ]
    }
   ],
   "source": [
    "def wordBreak(s: str, wordDict: list[str]) -> bool:\n",
    "    word_set = set(wordDict)  \n",
    "    memo = {}  \n",
    "\n",
    "    def dfs(start):\n",
    "        if start == len(s):\n",
    "            return True\n",
    "\n",
    "        if start in memo:  \n",
    "            return memo[start]\n",
    "\n",
    "        for end in range(start + 1, len(s) + 1):\n",
    "            if s[start:end] in word_set and dfs(end): \n",
    "                memo[start] = True\n",
    "                return True\n",
    "\n",
    "        memo[start] = False  \n",
    "        return False\n",
    "\n",
    "    return dfs(0)\n",
    "\n",
    "\n",
    "\n",
    "print(wordBreak(\"leetcode\", [\"leet\", \"code\"])) # True\n",
    "print(wordBreak(\"applepenapple\", [\"apple\", \"pen\"])) # True\n",
    "print(wordBreak(\"catsandog\", [\"cats\", \"dog\", \"sand\", \"and\", \"cat\"])) # False\n",
    "\n"
   ]
  },
  {
   "cell_type": "code",
   "execution_count": 98,
   "metadata": {},
   "outputs": [
    {
     "name": "stdout",
     "output_type": "stream",
     "text": [
      "16\n"
     ]
    }
   ],
   "source": [
    "def islandPerimeter (grid: List[List[int]]) -> int:\n",
    "        sum_land = 0\n",
    "        for i in range(len(grid)):\n",
    "            for j in range(len(grid[0])):\n",
    "                if grid[i][j] == 1:\n",
    "                    if (i == 0 or grid[i - 1][j] == 0):\n",
    "                        sum_land += 1\n",
    "                    if (i == len(grid) - 1 or grid[i + 1][j] == 0):\n",
    "                        sum_land += 1\n",
    "                    if (j == 0 or grid[i][j - 1] == 0):\n",
    "                        sum_land += 1\n",
    "                    if (j == len(grid[0]) - 1 or grid[i][j + 1] == 0):\n",
    "                        sum_land += 1\n",
    "        return sum_land\n",
    "\n",
    "# explanation:\n",
    "# we iterate through the grid and for each land cell, we check if the cell above or below or to the left or to the right is water or out of bounds. If it is, we add 1 to the sum_land.\n",
    "\n",
    "print(islandPerimeter([[0,1,0,0],[1,1,1,0],[0,1,0,0],[1,1,0,0]])) # 16\n"
   ]
  },
  {
   "cell_type": "code",
   "execution_count": 102,
   "metadata": {},
   "outputs": [
    {
     "name": "stdout",
     "output_type": "stream",
     "text": [
      "1\n"
     ]
    }
   ],
   "source": [
    "def numIslands(grid: list[list[str]]) -> int:\n",
    "    if not grid:\n",
    "        return 0\n",
    "\n",
    "    rows, cols = len(grid), len(grid[0])\n",
    "    num_islands = 0\n",
    "\n",
    "    def dfs(r, c):\n",
    "        # Base case: stop if out of bounds or water\n",
    "        if r < 0 or r >= rows or c < 0 or c >= cols or grid[r][c] == \"0\":\n",
    "            return\n",
    "\n",
    "        # Mark the cell as visited\n",
    "        grid[r][c] = \"0\"\n",
    "\n",
    "        # Visit all neighbors (up, down, left, right)\n",
    "        dfs(r + 1, c)  # Down\n",
    "        dfs(r - 1, c)  # Up\n",
    "        dfs(r, c + 1)  # Right\n",
    "        dfs(r, c - 1)  # Left\n",
    "\n",
    "    for r in range(rows):\n",
    "        for c in range(cols):\n",
    "            if grid[r][c] == \"1\":  # Found an unvisited land cell\n",
    "                num_islands += 1\n",
    "                dfs(r, c)  # Mark all connected land cells\n",
    "\n",
    "    return num_islands\n",
    "\n",
    "print(numIslands([[\"1\",\"1\",\"1\",\"1\",\"0\"],[\"1\",\"1\",\"0\",\"1\",\"0\"],[\"1\",\"1\",\"0\",\"0\",\"0\"],[\"0\",\"0\",\"0\",\"0\",\"0\"]])) # 1\n",
    "\n"
   ]
  },
  {
   "cell_type": "code",
   "execution_count": 103,
   "metadata": {},
   "outputs": [
    {
     "name": "stdout",
     "output_type": "stream",
     "text": [
      "[[2, 2, 2], [2, 2, 0], [2, 0, 1]]\n"
     ]
    }
   ],
   "source": [
    "def floodFill(image: list[list[int]], sr: int, sc: int, newColor: int) -> list[list[int]]:\n",
    "    if not image:\n",
    "        return image\n",
    "    \n",
    "    rows, cols = len(image), len(image[0])\n",
    "    old_color = image[sr][sc]\n",
    "    if old_color == newColor:\n",
    "        return image\n",
    "    \n",
    "    def dfs(r, c):\n",
    "        if image[r][c] == old_color:\n",
    "            image[r][c] = newColor\n",
    "            if r >= 1: dfs(r-1, c)\n",
    "            if r+1 < rows: dfs(r+1, c)\n",
    "            if c >= 1: dfs(r, c-1)\n",
    "            if c+1 < cols: dfs(r, c+1)\n",
    "    \n",
    "    dfs(sr, sc)\n",
    "    return image\n",
    "\n",
    "print(floodFill([[1,1,1],[1,1,0],[1,0,1]], 1, 1, 2)) # [[2,2,2],[2,2,0],[2,0,1]]\n"
   ]
  },
  {
   "cell_type": "code",
   "execution_count": 113,
   "metadata": {},
   "outputs": [
    {
     "name": "stdout",
     "output_type": "stream",
     "text": [
      "True\n",
      "False\n"
     ]
    }
   ],
   "source": [
    "from collections import deque\n",
    "\n",
    "def validPath(n: int, edges: list[list[int]], source: int, destination: int) -> bool:\n",
    "    # Step 1: Build the adjacency list using sets\n",
    "    graph = [set() for _ in range(n)]\n",
    "    for u, v in edges:\n",
    "        graph[u].add(v)\n",
    "        graph[v].add(u)\n",
    "\n",
    "    # Step 2: Perform BFS\n",
    "    queue = deque([source])\n",
    "    visited = set()\n",
    "\n",
    "    while queue:\n",
    "        node = queue.popleft()\n",
    "\n",
    "        # If we reach the destination, return True\n",
    "        if node == destination:\n",
    "            return True\n",
    "\n",
    "        # Mark the current node as visited\n",
    "        visited.add(node)\n",
    "\n",
    "        # Add unvisited neighbors to the queue\n",
    "        for neighbor in graph[node]:\n",
    "            if neighbor not in visited:\n",
    "                queue.append(neighbor)\n",
    "\n",
    "    # If BFS completes and we don't reach the destination, return False\n",
    "    return False\n",
    "\n",
    "# Test cases\n",
    "print(validPath(3, [[0,1],[1,2],[2,0]], 0, 2))  # True\n",
    "print(validPath(6, [[0,1],[0,2],[3,5],[5,4],[4,3]], 0, 5))  # False\n"
   ]
  },
  {
   "cell_type": "code",
   "execution_count": 114,
   "metadata": {},
   "outputs": [
    {
     "name": "stdout",
     "output_type": "stream",
     "text": [
      "[0, 1, 2, 3]\n",
      "[0, 1]\n",
      "[]\n"
     ]
    }
   ],
   "source": [
    "from collections import deque\n",
    "\n",
    "def findOrder(numCourses: int, prerequisites: list[list[int]]) -> list[int]:\n",
    "    # Step 1: Build the graph and in-degree array\n",
    "    graph = [set() for _ in range(numCourses)]  # Use sets instead of lists\n",
    "    # in_degree is used to count the number of prerequisites for each course\n",
    "    in_degree = [0] * numCourses\n",
    "\n",
    "    for course, prereq in prerequisites:\n",
    "        graph[prereq].add(course)  # Add the course to the prerequisite's set\n",
    "        in_degree[course] += 1\n",
    "\n",
    "    # Step 2: Initialize the queue with courses having no prerequisites\n",
    "    queue = deque([i for i in range(numCourses) if in_degree[i] == 0])\n",
    "    result = []\n",
    "\n",
    "    # Step 3: Process the courses\n",
    "    while queue:\n",
    "        course = queue.popleft()\n",
    "        result.append(course)\n",
    "\n",
    "        for neighbor in graph[course]:\n",
    "            in_degree[neighbor] -= 1\n",
    "            if in_degree[neighbor] == 0:\n",
    "                queue.append(neighbor)\n",
    "\n",
    "    # Step 4: Check if all courses are in the result\n",
    "    if len(result) == numCourses:\n",
    "        return result\n",
    "    else:\n",
    "        return []  # Cycle detected, no valid ordering\n",
    "\n",
    "# Test cases\n",
    "print(findOrder(4, [[1,0],[2,0],[3,1],[3,2]]))  # [0,1,2,3] or [0,2,1,3]\n",
    "print(findOrder(2, [[1,0]]))  # [0,1]\n",
    "print(findOrder(2, [[1,0], [0,1]]))  # [] (cycle detected)\n"
   ]
  },
  {
   "cell_type": "code",
   "execution_count": 112,
   "metadata": {},
   "outputs": [
    {
     "name": "stdout",
     "output_type": "stream",
     "text": [
      "3\n",
      "True\n",
      "False\n"
     ]
    }
   ],
   "source": [
    "class TreeNode:\n",
    "    def __init__(self, val=0, left=None, right=None):\n",
    "        self.val = val\n",
    "        self.left = left\n",
    "        self.right = right\n",
    "\n",
    "class BinaryTreeSolutions:  \n",
    "    def maxDepth(self, root: Optional[TreeNode]) -> int:\n",
    "        if not root:\n",
    "            return 0\n",
    "        return 1 + max(self.maxDepth(root.left), self.maxDepth(root.right))\n",
    "    \n",
    "    def isSameTree(self, p: Optional[TreeNode], q: Optional[TreeNode]) -> bool:\n",
    "        if not p and not q:\n",
    "            return True\n",
    "        if not p or not q or p.val != q.val:\n",
    "            return False\n",
    "        return self.isSameTree(p.left, q.left) and self.isSameTree(p.right, q.right)    \n",
    "\n",
    "print(BinaryTreeSolutions().maxDepth(TreeNode(3, TreeNode(9), TreeNode(20, TreeNode(15), TreeNode(7))))) # 3\n",
    "print(BinaryTreeSolutions().isSameTree(TreeNode(1, TreeNode(2), TreeNode(3)), TreeNode(1, TreeNode(2), TreeNode(3)))) # True\n",
    "print(BinaryTreeSolutions().isSameTree(TreeNode(1, TreeNode(2), TreeNode(3)), TreeNode(1, TreeNode(3), TreeNode(2)))) # False\n",
    "\n",
    "\n"
   ]
  },
  {
   "cell_type": "code",
   "execution_count": 116,
   "metadata": {},
   "outputs": [
    {
     "name": "stdout",
     "output_type": "stream",
     "text": [
      "1\n"
     ]
    }
   ],
   "source": [
    "import heapq\n",
    "\n",
    "def lastStoneWeight(stones: list[int]) -> int:\n",
    "    # Step 1: Convert to max-heap by negating all values\n",
    "    max_heap = [-stone for stone in stones]\n",
    "    heapq.heapify(max_heap)\n",
    "\n",
    "    # Step 2: Process until one or no stones are left\n",
    "    while len(max_heap) > 1:\n",
    "        # Extract the two largest stones\n",
    "        stone1 = -heapq.heappop(max_heap)  # Largest stone\n",
    "        stone2 = -heapq.heappop(max_heap)  # Second largest stone\n",
    "\n",
    "        # If they are not equal, push the difference back into the heap\n",
    "        if stone1 != stone2:\n",
    "            heapq.heappush(max_heap, -(stone1 - stone2))\n",
    "\n",
    "    # Step 3: Return the last stone weight (or 0 if no stones left)\n",
    "    return -max_heap[0] if max_heap else 0\n",
    "\n",
    "\n",
    "print(lastStoneWeight([2,7,4,1,8,1])) # 1\n"
   ]
  },
  {
   "cell_type": "code",
   "execution_count": 4,
   "metadata": {},
   "outputs": [
    {
     "name": "stdout",
     "output_type": "stream",
     "text": [
      "2\n",
      "1\n",
      "-1\n"
     ]
    }
   ],
   "source": [
    "def networkDelayTime(times: list[list[int]], n: int, k: int) -> int:\n",
    "    # Initialize the shortest distances with a large number\n",
    "    shortest_distances: list[int] = [10**9] * (n+1)\n",
    "    shortest_distances[k] = 0\n",
    "\n",
    "    for _ in range(n - 1):\n",
    "        for u, v, w in times:\n",
    "            shortest_distances[v] = min(\n",
    "                shortest_distances[v],\n",
    "                shortest_distances[u] + w\n",
    "            )\n",
    "\n",
    "    maxi = max(shortest_distances[1:])\n",
    "    return -1 if maxi == 10**9 else maxi\n",
    "\n",
    "\n",
    "print(networkDelayTime([[2,1,1],[2,3,1],[3,4,1]], 4, 2)) # 2\n",
    "print(networkDelayTime([[1,2,1]], 2, 1)) # 1\n",
    "print(networkDelayTime([[1,2,1]], 2, 2)) # -1"
   ]
  },
  {
   "cell_type": "code",
   "execution_count": null,
   "metadata": {},
   "outputs": [
    {
     "name": "stdout",
     "output_type": "stream",
     "text": [
      "2\n"
     ]
    }
   ],
   "source": [
    "import heapq\n",
    "\n",
    "def networkDelayTime(times: list[list[int]], n: int, k: int) -> int:\n",
    "    shortest_distances: list[int] = [10**9] * (n+1)\n",
    "    shortest_distances[k] = 0\n",
    "\n",
    "    graph: list[dict[int, int]] = [{} for _ in range(n+1)]\n",
    "    for u, v, w in times:\n",
    "        graph[u][v] = w\n",
    "\n",
    "    my_heap: list[tuple[int, int]] = [(0, k)]\n",
    "    visited: set[int] = set()\n",
    "    while my_heap:\n",
    "        dist, node = heapq.heappop(my_heap)\n",
    "        if node in visited:\n",
    "            continue\n",
    "        visited.add(node)\n",
    "        for neighbour in graph[node] :\n",
    "            shortest_distances[neighbour] = min(\n",
    "                shortest_distances[neighbour],\n",
    "                shortest_distances[node] + graph[node][neighbour]\n",
    "            )\n",
    "            heapq.heappush(my_heap, (shortest_distances[neighbour], neighbour))\n",
    "\n",
    "    maxi = max(shortest_distances[1:])\n",
    "    return -1 if maxi == 10**9 else maxi\n",
    "\n",
    "print(networkDelayTime([[2,1,1],[2,3,1],[3,4,1]], 4, 2)) # 2\n"
   ]
  }
 ],
 "metadata": {
  "kernelspec": {
   "display_name": "Python 3",
   "language": "python",
   "name": "python3"
  },
  "language_info": {
   "codemirror_mode": {
    "name": "ipython",
    "version": 3
   },
   "file_extension": ".py",
   "mimetype": "text/x-python",
   "name": "python",
   "nbconvert_exporter": "python",
   "pygments_lexer": "ipython3",
   "version": "3.12.1"
  }
 },
 "nbformat": 4,
 "nbformat_minor": 2
}
